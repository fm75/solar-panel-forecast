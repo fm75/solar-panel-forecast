{
 "cells": [
  {
   "cell_type": "markdown",
   "metadata": {},
   "source": [
    "# Exploring Data Graphically\n",
    "\n",
    "Let's take a look at the data graphically and make some comments based on manually looking up weather data."
   ]
  },
  {
   "cell_type": "code",
   "execution_count": 1,
   "metadata": {},
   "outputs": [],
   "source": [
    "# import required modules\n",
    "import pandas as pd\n",
    "import matplotlib.pyplot as plt"
   ]
  },
  {
   "cell_type": "code",
   "execution_count": 2,
   "metadata": {},
   "outputs": [],
   "source": [
    "# read our data to dataframe\n",
    "data = pd.read_csv('./data/BlueSolarHistory.csv', parse_dates=['Date'])"
   ]
  },
  {
   "cell_type": "code",
   "execution_count": 3,
   "metadata": {},
   "outputs": [
    {
     "data": {
      "text/html": [
       "<div>\n",
       "<style scoped>\n",
       "    .dataframe tbody tr th:only-of-type {\n",
       "        vertical-align: middle;\n",
       "    }\n",
       "\n",
       "    .dataframe tbody tr th {\n",
       "        vertical-align: top;\n",
       "    }\n",
       "\n",
       "    .dataframe thead th {\n",
       "        text-align: right;\n",
       "    }\n",
       "</style>\n",
       "<table border=\"1\" class=\"dataframe\">\n",
       "  <thead>\n",
       "    <tr style=\"text-align: right;\">\n",
       "      <th></th>\n",
       "      <th>Days ago</th>\n",
       "      <th>Date</th>\n",
       "      <th>Yield(Wh)</th>\n",
       "      <th>Max. PV power(W)</th>\n",
       "      <th>Max. PV voltage(V)</th>\n",
       "      <th>Min. battery voltage(V)</th>\n",
       "      <th>Max. battery voltage(V)</th>\n",
       "      <th>Time in bulk(m)</th>\n",
       "      <th>Time in absorption(m)</th>\n",
       "      <th>Time in float(m)</th>\n",
       "      <th>Last error</th>\n",
       "      <th>2nd last error</th>\n",
       "      <th>3rd last error</th>\n",
       "      <th>4th last error</th>\n",
       "    </tr>\n",
       "  </thead>\n",
       "  <tbody>\n",
       "    <tr>\n",
       "      <th>0</th>\n",
       "      <td>0</td>\n",
       "      <td>2020-09-02</td>\n",
       "      <td>200</td>\n",
       "      <td>61.0</td>\n",
       "      <td>32.29</td>\n",
       "      <td>13.24</td>\n",
       "      <td>13.46</td>\n",
       "      <td>743</td>\n",
       "      <td>0</td>\n",
       "      <td>0</td>\n",
       "      <td>0</td>\n",
       "      <td>0</td>\n",
       "      <td>0</td>\n",
       "      <td>0</td>\n",
       "    </tr>\n",
       "    <tr>\n",
       "      <th>1</th>\n",
       "      <td>1</td>\n",
       "      <td>2020-09-01</td>\n",
       "      <td>340</td>\n",
       "      <td>252.0</td>\n",
       "      <td>37.09</td>\n",
       "      <td>13.25</td>\n",
       "      <td>14.21</td>\n",
       "      <td>583</td>\n",
       "      <td>124</td>\n",
       "      <td>60</td>\n",
       "      <td>0</td>\n",
       "      <td>0</td>\n",
       "      <td>0</td>\n",
       "      <td>0</td>\n",
       "    </tr>\n",
       "    <tr>\n",
       "      <th>2</th>\n",
       "      <td>2</td>\n",
       "      <td>2020-08-31</td>\n",
       "      <td>320</td>\n",
       "      <td>278.0</td>\n",
       "      <td>37.47</td>\n",
       "      <td>13.25</td>\n",
       "      <td>14.21</td>\n",
       "      <td>574</td>\n",
       "      <td>120</td>\n",
       "      <td>78</td>\n",
       "      <td>0</td>\n",
       "      <td>0</td>\n",
       "      <td>0</td>\n",
       "      <td>0</td>\n",
       "    </tr>\n",
       "    <tr>\n",
       "      <th>3</th>\n",
       "      <td>3</td>\n",
       "      <td>2020-08-30</td>\n",
       "      <td>600</td>\n",
       "      <td>321.0</td>\n",
       "      <td>37.68</td>\n",
       "      <td>13.22</td>\n",
       "      <td>14.28</td>\n",
       "      <td>653</td>\n",
       "      <td>124</td>\n",
       "      <td>0</td>\n",
       "      <td>0</td>\n",
       "      <td>0</td>\n",
       "      <td>0</td>\n",
       "      <td>0</td>\n",
       "    </tr>\n",
       "    <tr>\n",
       "      <th>4</th>\n",
       "      <td>4</td>\n",
       "      <td>2020-08-29</td>\n",
       "      <td>200</td>\n",
       "      <td>185.0</td>\n",
       "      <td>32.66</td>\n",
       "      <td>13.24</td>\n",
       "      <td>13.57</td>\n",
       "      <td>739</td>\n",
       "      <td>0</td>\n",
       "      <td>0</td>\n",
       "      <td>0</td>\n",
       "      <td>0</td>\n",
       "      <td>0</td>\n",
       "      <td>0</td>\n",
       "    </tr>\n",
       "  </tbody>\n",
       "</table>\n",
       "</div>"
      ],
      "text/plain": [
       "   Days ago       Date  Yield(Wh)  Max. PV power(W)  Max. PV voltage(V)  \\\n",
       "0         0 2020-09-02        200              61.0               32.29   \n",
       "1         1 2020-09-01        340             252.0               37.09   \n",
       "2         2 2020-08-31        320             278.0               37.47   \n",
       "3         3 2020-08-30        600             321.0               37.68   \n",
       "4         4 2020-08-29        200             185.0               32.66   \n",
       "\n",
       "   Min. battery voltage(V)  Max. battery voltage(V)  Time in bulk(m)  \\\n",
       "0                    13.24                    13.46              743   \n",
       "1                    13.25                    14.21              583   \n",
       "2                    13.25                    14.21              574   \n",
       "3                    13.22                    14.28              653   \n",
       "4                    13.24                    13.57              739   \n",
       "\n",
       "   Time in absorption(m)  Time in float(m)  Last error  2nd last error  \\\n",
       "0                      0                 0           0               0   \n",
       "1                    124                60           0               0   \n",
       "2                    120                78           0               0   \n",
       "3                    124                 0           0               0   \n",
       "4                      0                 0           0               0   \n",
       "\n",
       "   3rd last error  4th last error  \n",
       "0               0               0  \n",
       "1               0               0  \n",
       "2               0               0  \n",
       "3               0               0  \n",
       "4               0               0  "
      ]
     },
     "execution_count": 3,
     "metadata": {},
     "output_type": "execute_result"
    }
   ],
   "source": [
    "# sanity check our data is reading correctly\n",
    "data.head()"
   ]
  },
  {
   "cell_type": "markdown",
   "metadata": {},
   "source": [
    "## Column Definitions\n",
    "\n",
    "- Max. PV power(W): maximum output that occurred during the day; the absolute maximum is 2 * 175W = 350W\n",
    "- Time in bulk(m): time spent delivering as much charge current as possible to rapidly charge batteries\n",
    "- Time in absorption(m): time spent delivering constant voltage to batteries\n",
    "- Time in float(m): time spent delivering float voltage to maintain fully charged state \n",
    "\n",
    "For furthre details, see [documentation](https://www.victronenergy.com/live/victronconnect:mppt-solarchargers) regarding Victron's MPPT solar chargers"
   ]
  },
  {
   "cell_type": "code",
   "execution_count": 4,
   "metadata": {},
   "outputs": [],
   "source": [
    "# sort this data by date before plotting\n",
    "data = data.sort_values(by='Date')"
   ]
  },
  {
   "cell_type": "code",
   "execution_count": 5,
   "metadata": {},
   "outputs": [
    {
     "data": {
      "image/png": "[encoded data removed]",
      "text/plain": [
       "<Figure size 432x288 with 1 Axes>"
      ]
     },
     "metadata": {
      "needs_background": "light"
     },
     "output_type": "display_data"
    }
   ],
   "source": [
    "# plot date as X axis, max power PV along Y axis,\n",
    "# constant absolute maximum as 350W\n",
    "plt.plot(data['Date'], data['Max. PV power(W)'], color='b')\n",
    "plt.axhline(y = 350, color='g')\n",
    "\n",
    "# add labels for clarity\n",
    "plt.xlabel('Date')\n",
    "plt.ylabel('Watts')\n",
    "plt.show()"
   ]
  },
  {
   "cell_type": "code",
   "execution_count": 6,
   "metadata": {},
   "outputs": [
    {
     "data": {
      "image/png": "[encoded data removed]",
      "text/plain": [
       "<Figure size 432x288 with 1 Axes>"
      ]
     },
     "metadata": {
      "needs_background": "light"
     },
     "output_type": "display_data"
    }
   ],
   "source": [
    "# plot date as X axis, max power PV along Y axis,\n",
    "# constant absolute maximum as 350W\n",
    "plt.plot(data['Date'], data['Yield(Wh)'], color='r')\n",
    "\n",
    "# add labels for clarity\n",
    "plt.xlabel('Date')\n",
    "plt.ylabel('Watt hours')\n",
    "plt.show()"
   ]
  },
  {
   "cell_type": "markdown",
   "metadata": {},
   "source": [
    "## Maximum Power vs Output\n",
    "\n",
    "Is there any correlation between the maximum power overall output for the day?"
   ]
  },
  {
   "cell_type": "code",
   "execution_count": 7,
   "metadata": {},
   "outputs": [
    {
     "data": {
      "image/png": "[encoded data removed]",
      "text/plain": [
       "<Figure size 432x288 with 1 Axes>"
      ]
     },
     "metadata": {
      "needs_background": "light"
     },
     "output_type": "display_data"
    }
   ],
   "source": [
    "plt.plot(data['Date'], data['Max. PV power(W)'], color='b')\n",
    "plt.plot(data['Date'], data['Yield(Wh)'], color='r')\n",
    "\n",
    "# add labels for clarity\n",
    "plt.xlabel('Date')\n",
    "plt.show()"
   ]
  },
  {
   "cell_type": "markdown",
   "metadata": {},
   "source": [
    "## Observations\n",
    "\n",
    "Plots are nice to identify some of the trends, but the actual data is likely more useful to look at top 5 high/low output days and make remarks about each day's weather with manual reference."
   ]
  },
  {
   "cell_type": "code",
   "execution_count": 8,
   "metadata": {},
   "outputs": [
    {
     "data": {
      "text/html": [
       "<div>\n",
       "<style scoped>\n",
       "    .dataframe tbody tr th:only-of-type {\n",
       "        vertical-align: middle;\n",
       "    }\n",
       "\n",
       "    .dataframe tbody tr th {\n",
       "        vertical-align: top;\n",
       "    }\n",
       "\n",
       "    .dataframe thead th {\n",
       "        text-align: right;\n",
       "    }\n",
       "</style>\n",
       "<table border=\"1\" class=\"dataframe\">\n",
       "  <thead>\n",
       "    <tr style=\"text-align: right;\">\n",
       "      <th></th>\n",
       "      <th>Days ago</th>\n",
       "      <th>Date</th>\n",
       "      <th>Yield(Wh)</th>\n",
       "      <th>Max. PV power(W)</th>\n",
       "      <th>Max. PV voltage(V)</th>\n",
       "      <th>Min. battery voltage(V)</th>\n",
       "      <th>Max. battery voltage(V)</th>\n",
       "      <th>Time in bulk(m)</th>\n",
       "      <th>Time in absorption(m)</th>\n",
       "      <th>Time in float(m)</th>\n",
       "      <th>Last error</th>\n",
       "      <th>2nd last error</th>\n",
       "      <th>3rd last error</th>\n",
       "      <th>4th last error</th>\n",
       "    </tr>\n",
       "  </thead>\n",
       "  <tbody>\n",
       "    <tr>\n",
       "      <th>18</th>\n",
       "      <td>18</td>\n",
       "      <td>2020-08-15</td>\n",
       "      <td>800</td>\n",
       "      <td>280.0</td>\n",
       "      <td>37.45</td>\n",
       "      <td>13.22</td>\n",
       "      <td>14.22</td>\n",
       "      <td>776</td>\n",
       "      <td>60</td>\n",
       "      <td>0</td>\n",
       "      <td>0</td>\n",
       "      <td>0</td>\n",
       "      <td>0</td>\n",
       "      <td>0</td>\n",
       "    </tr>\n",
       "    <tr>\n",
       "      <th>28</th>\n",
       "      <td>28</td>\n",
       "      <td>2020-08-05</td>\n",
       "      <td>660</td>\n",
       "      <td>292.0</td>\n",
       "      <td>35.12</td>\n",
       "      <td>13.23</td>\n",
       "      <td>13.67</td>\n",
       "      <td>841</td>\n",
       "      <td>0</td>\n",
       "      <td>0</td>\n",
       "      <td>0</td>\n",
       "      <td>0</td>\n",
       "      <td>0</td>\n",
       "      <td>0</td>\n",
       "    </tr>\n",
       "    <tr>\n",
       "      <th>17</th>\n",
       "      <td>17</td>\n",
       "      <td>2020-08-16</td>\n",
       "      <td>620</td>\n",
       "      <td>231.0</td>\n",
       "      <td>36.36</td>\n",
       "      <td>13.22</td>\n",
       "      <td>13.62</td>\n",
       "      <td>841</td>\n",
       "      <td>0</td>\n",
       "      <td>0</td>\n",
       "      <td>0</td>\n",
       "      <td>0</td>\n",
       "      <td>0</td>\n",
       "      <td>0</td>\n",
       "    </tr>\n",
       "    <tr>\n",
       "      <th>30</th>\n",
       "      <td>30</td>\n",
       "      <td>2020-08-03</td>\n",
       "      <td>610</td>\n",
       "      <td>296.0</td>\n",
       "      <td>35.85</td>\n",
       "      <td>13.25</td>\n",
       "      <td>14.21</td>\n",
       "      <td>682</td>\n",
       "      <td>159</td>\n",
       "      <td>0</td>\n",
       "      <td>0</td>\n",
       "      <td>0</td>\n",
       "      <td>0</td>\n",
       "      <td>0</td>\n",
       "    </tr>\n",
       "    <tr>\n",
       "      <th>3</th>\n",
       "      <td>3</td>\n",
       "      <td>2020-08-30</td>\n",
       "      <td>600</td>\n",
       "      <td>321.0</td>\n",
       "      <td>37.68</td>\n",
       "      <td>13.22</td>\n",
       "      <td>14.28</td>\n",
       "      <td>653</td>\n",
       "      <td>124</td>\n",
       "      <td>0</td>\n",
       "      <td>0</td>\n",
       "      <td>0</td>\n",
       "      <td>0</td>\n",
       "      <td>0</td>\n",
       "    </tr>\n",
       "  </tbody>\n",
       "</table>\n",
       "</div>"
      ],
      "text/plain": [
       "    Days ago       Date  Yield(Wh)  Max. PV power(W)  Max. PV voltage(V)  \\\n",
       "18        18 2020-08-15        800             280.0               37.45   \n",
       "28        28 2020-08-05        660             292.0               35.12   \n",
       "17        17 2020-08-16        620             231.0               36.36   \n",
       "30        30 2020-08-03        610             296.0               35.85   \n",
       "3          3 2020-08-30        600             321.0               37.68   \n",
       "\n",
       "    Min. battery voltage(V)  Max. battery voltage(V)  Time in bulk(m)  \\\n",
       "18                    13.22                    14.22              776   \n",
       "28                    13.23                    13.67              841   \n",
       "17                    13.22                    13.62              841   \n",
       "30                    13.25                    14.21              682   \n",
       "3                     13.22                    14.28              653   \n",
       "\n",
       "    Time in absorption(m)  Time in float(m)  Last error  2nd last error  \\\n",
       "18                     60                 0           0               0   \n",
       "28                      0                 0           0               0   \n",
       "17                      0                 0           0               0   \n",
       "30                    159                 0           0               0   \n",
       "3                     124                 0           0               0   \n",
       "\n",
       "    3rd last error  4th last error  \n",
       "18               0               0  \n",
       "28               0               0  \n",
       "17               0               0  \n",
       "30               0               0  \n",
       "3                0               0  "
      ]
     },
     "execution_count": 8,
     "metadata": {},
     "output_type": "execute_result"
    }
   ],
   "source": [
    "# top 5 yields\n",
    "data.sort_values(by='Yield(Wh)', ascending=False).head(5)"
   ]
  },
  {
   "cell_type": "code",
   "execution_count": 9,
   "metadata": {},
   "outputs": [
    {
     "data": {
      "text/html": [
       "<div>\n",
       "<style scoped>\n",
       "    .dataframe tbody tr th:only-of-type {\n",
       "        vertical-align: middle;\n",
       "    }\n",
       "\n",
       "    .dataframe tbody tr th {\n",
       "        vertical-align: top;\n",
       "    }\n",
       "\n",
       "    .dataframe thead th {\n",
       "        text-align: right;\n",
       "    }\n",
       "</style>\n",
       "<table border=\"1\" class=\"dataframe\">\n",
       "  <thead>\n",
       "    <tr style=\"text-align: right;\">\n",
       "      <th></th>\n",
       "      <th>Days ago</th>\n",
       "      <th>Date</th>\n",
       "      <th>Yield(Wh)</th>\n",
       "      <th>Max. PV power(W)</th>\n",
       "      <th>Max. PV voltage(V)</th>\n",
       "      <th>Min. battery voltage(V)</th>\n",
       "      <th>Max. battery voltage(V)</th>\n",
       "      <th>Time in bulk(m)</th>\n",
       "      <th>Time in absorption(m)</th>\n",
       "      <th>Time in float(m)</th>\n",
       "      <th>Last error</th>\n",
       "      <th>2nd last error</th>\n",
       "      <th>3rd last error</th>\n",
       "      <th>4th last error</th>\n",
       "    </tr>\n",
       "  </thead>\n",
       "  <tbody>\n",
       "    <tr>\n",
       "      <th>6</th>\n",
       "      <td>6</td>\n",
       "      <td>2020-08-27</td>\n",
       "      <td>190</td>\n",
       "      <td>70.0</td>\n",
       "      <td>33.03</td>\n",
       "      <td>13.24</td>\n",
       "      <td>13.46</td>\n",
       "      <td>782</td>\n",
       "      <td>0</td>\n",
       "      <td>0</td>\n",
       "      <td>0</td>\n",
       "      <td>0</td>\n",
       "      <td>0</td>\n",
       "      <td>0</td>\n",
       "    </tr>\n",
       "    <tr>\n",
       "      <th>0</th>\n",
       "      <td>0</td>\n",
       "      <td>2020-09-02</td>\n",
       "      <td>200</td>\n",
       "      <td>61.0</td>\n",
       "      <td>32.29</td>\n",
       "      <td>13.24</td>\n",
       "      <td>13.46</td>\n",
       "      <td>743</td>\n",
       "      <td>0</td>\n",
       "      <td>0</td>\n",
       "      <td>0</td>\n",
       "      <td>0</td>\n",
       "      <td>0</td>\n",
       "      <td>0</td>\n",
       "    </tr>\n",
       "    <tr>\n",
       "      <th>4</th>\n",
       "      <td>4</td>\n",
       "      <td>2020-08-29</td>\n",
       "      <td>200</td>\n",
       "      <td>185.0</td>\n",
       "      <td>32.66</td>\n",
       "      <td>13.24</td>\n",
       "      <td>13.57</td>\n",
       "      <td>739</td>\n",
       "      <td>0</td>\n",
       "      <td>0</td>\n",
       "      <td>0</td>\n",
       "      <td>0</td>\n",
       "      <td>0</td>\n",
       "      <td>0</td>\n",
       "    </tr>\n",
       "    <tr>\n",
       "      <th>29</th>\n",
       "      <td>29</td>\n",
       "      <td>2020-08-04</td>\n",
       "      <td>210</td>\n",
       "      <td>73.0</td>\n",
       "      <td>34.64</td>\n",
       "      <td>13.24</td>\n",
       "      <td>13.45</td>\n",
       "      <td>785</td>\n",
       "      <td>0</td>\n",
       "      <td>0</td>\n",
       "      <td>0</td>\n",
       "      <td>0</td>\n",
       "      <td>0</td>\n",
       "      <td>0</td>\n",
       "    </tr>\n",
       "    <tr>\n",
       "      <th>2</th>\n",
       "      <td>2</td>\n",
       "      <td>2020-08-31</td>\n",
       "      <td>320</td>\n",
       "      <td>278.0</td>\n",
       "      <td>37.47</td>\n",
       "      <td>13.25</td>\n",
       "      <td>14.21</td>\n",
       "      <td>574</td>\n",
       "      <td>120</td>\n",
       "      <td>78</td>\n",
       "      <td>0</td>\n",
       "      <td>0</td>\n",
       "      <td>0</td>\n",
       "      <td>0</td>\n",
       "    </tr>\n",
       "  </tbody>\n",
       "</table>\n",
       "</div>"
      ],
      "text/plain": [
       "    Days ago       Date  Yield(Wh)  Max. PV power(W)  Max. PV voltage(V)  \\\n",
       "6          6 2020-08-27        190              70.0               33.03   \n",
       "0          0 2020-09-02        200              61.0               32.29   \n",
       "4          4 2020-08-29        200             185.0               32.66   \n",
       "29        29 2020-08-04        210              73.0               34.64   \n",
       "2          2 2020-08-31        320             278.0               37.47   \n",
       "\n",
       "    Min. battery voltage(V)  Max. battery voltage(V)  Time in bulk(m)  \\\n",
       "6                     13.24                    13.46              782   \n",
       "0                     13.24                    13.46              743   \n",
       "4                     13.24                    13.57              739   \n",
       "29                    13.24                    13.45              785   \n",
       "2                     13.25                    14.21              574   \n",
       "\n",
       "    Time in absorption(m)  Time in float(m)  Last error  2nd last error  \\\n",
       "6                       0                 0           0               0   \n",
       "0                       0                 0           0               0   \n",
       "4                       0                 0           0               0   \n",
       "29                      0                 0           0               0   \n",
       "2                     120                78           0               0   \n",
       "\n",
       "    3rd last error  4th last error  \n",
       "6                0               0  \n",
       "0                0               0  \n",
       "4                0               0  \n",
       "29               0               0  \n",
       "2                0               0  "
      ]
     },
     "execution_count": 9,
     "metadata": {},
     "output_type": "execute_result"
    }
   ],
   "source": [
    "# bottom 5 yields\n",
    "data.sort_values(by='Yield(Wh)', ascending=True).head(5)"
   ]
  },
  {
   "cell_type": "markdown",
   "metadata": {},
   "source": [
    "## Weather Data\n",
    "\n",
    "Using data available from [Wunderground](https://www.wunderground.com/history/daily/us/nh/jaffrey/KAFN), let's see what each day above produces in terms of overall weather descriptors."
   ]
  },
  {
   "cell_type": "code",
   "execution_count": 10,
   "metadata": {},
   "outputs": [],
   "source": [
    "# read in weather data\n",
    "weather = pd.read_csv('./data/weather-data.csv')\n",
    "\n",
    "# manually handle Datetime and Date to allow for a little more flexibility with the data\n",
    "weather['Datetime'] = pd.to_datetime(weather['Date'] + ' ' + weather['Time'])\n",
    "weather['Date'] = pd.to_datetime(weather['Date'])"
   ]
  },
  {
   "cell_type": "code",
   "execution_count": 11,
   "metadata": {},
   "outputs": [
    {
     "data": {
      "text/html": [
       "<div>\n",
       "<style scoped>\n",
       "    .dataframe tbody tr th:only-of-type {\n",
       "        vertical-align: middle;\n",
       "    }\n",
       "\n",
       "    .dataframe tbody tr th {\n",
       "        vertical-align: top;\n",
       "    }\n",
       "\n",
       "    .dataframe thead th {\n",
       "        text-align: right;\n",
       "    }\n",
       "</style>\n",
       "<table border=\"1\" class=\"dataframe\">\n",
       "  <thead>\n",
       "    <tr style=\"text-align: right;\">\n",
       "      <th></th>\n",
       "      <th>Location Name</th>\n",
       "      <th>Date</th>\n",
       "      <th>Time</th>\n",
       "      <th>Temperature</th>\n",
       "      <th>Dew Point</th>\n",
       "      <th>Humidity</th>\n",
       "      <th>Wind</th>\n",
       "      <th>Wind Speed</th>\n",
       "      <th>Wind Gust</th>\n",
       "      <th>Pressure</th>\n",
       "      <th>Precip.</th>\n",
       "      <th>Condition</th>\n",
       "      <th>Datetime</th>\n",
       "    </tr>\n",
       "  </thead>\n",
       "  <tbody>\n",
       "    <tr>\n",
       "      <th>0</th>\n",
       "      <td>Jaffrey, NH (KAFN)</td>\n",
       "      <td>2020-08-03</td>\n",
       "      <td>12:13 AM</td>\n",
       "      <td>76 F</td>\n",
       "      <td>72 F</td>\n",
       "      <td>87 %</td>\n",
       "      <td>SSW</td>\n",
       "      <td>12 mph</td>\n",
       "      <td>0 mph</td>\n",
       "      <td>28.79 in</td>\n",
       "      <td>0.0 in</td>\n",
       "      <td>Thunder</td>\n",
       "      <td>2020-08-03 00:13:00</td>\n",
       "    </tr>\n",
       "    <tr>\n",
       "      <th>1</th>\n",
       "      <td>Jaffrey, NH (KAFN)</td>\n",
       "      <td>2020-08-03</td>\n",
       "      <td>12:28 AM</td>\n",
       "      <td>76 F</td>\n",
       "      <td>73 F</td>\n",
       "      <td>91 %</td>\n",
       "      <td>SSW</td>\n",
       "      <td>10 mph</td>\n",
       "      <td>0 mph</td>\n",
       "      <td>28.79 in</td>\n",
       "      <td>0.1 in</td>\n",
       "      <td>Light Rain</td>\n",
       "      <td>2020-08-03 00:28:00</td>\n",
       "    </tr>\n",
       "    <tr>\n",
       "      <th>2</th>\n",
       "      <td>Jaffrey, NH (KAFN)</td>\n",
       "      <td>2020-08-03</td>\n",
       "      <td>12:41 AM</td>\n",
       "      <td>76 F</td>\n",
       "      <td>72 F</td>\n",
       "      <td>87 %</td>\n",
       "      <td>SSW</td>\n",
       "      <td>8 mph</td>\n",
       "      <td>0 mph</td>\n",
       "      <td>28.79 in</td>\n",
       "      <td>0.1 in</td>\n",
       "      <td>Mostly Cloudy</td>\n",
       "      <td>2020-08-03 00:41:00</td>\n",
       "    </tr>\n",
       "    <tr>\n",
       "      <th>3</th>\n",
       "      <td>Jaffrey, NH (KAFN)</td>\n",
       "      <td>2020-08-03</td>\n",
       "      <td>12:46 AM</td>\n",
       "      <td>75 F</td>\n",
       "      <td>73 F</td>\n",
       "      <td>94 %</td>\n",
       "      <td>S</td>\n",
       "      <td>6 mph</td>\n",
       "      <td>0 mph</td>\n",
       "      <td>28.79 in</td>\n",
       "      <td>0.1 in</td>\n",
       "      <td>Mostly Cloudy</td>\n",
       "      <td>2020-08-03 00:46:00</td>\n",
       "    </tr>\n",
       "    <tr>\n",
       "      <th>4</th>\n",
       "      <td>Jaffrey, NH (KAFN)</td>\n",
       "      <td>2020-08-03</td>\n",
       "      <td>12:52 AM</td>\n",
       "      <td>76 F</td>\n",
       "      <td>73 F</td>\n",
       "      <td>91 %</td>\n",
       "      <td>SSW</td>\n",
       "      <td>8 mph</td>\n",
       "      <td>0 mph</td>\n",
       "      <td>28.79 in</td>\n",
       "      <td>0.1 in</td>\n",
       "      <td>Partly Cloudy</td>\n",
       "      <td>2020-08-03 00:52:00</td>\n",
       "    </tr>\n",
       "  </tbody>\n",
       "</table>\n",
       "</div>"
      ],
      "text/plain": [
       "        Location Name       Date      Time Temperature Dew Point Humidity  \\\n",
       "0  Jaffrey, NH (KAFN) 2020-08-03  12:13 AM        76 F      72 F     87 %   \n",
       "1  Jaffrey, NH (KAFN) 2020-08-03  12:28 AM        76 F      73 F     91 %   \n",
       "2  Jaffrey, NH (KAFN) 2020-08-03  12:41 AM        76 F      72 F     87 %   \n",
       "3  Jaffrey, NH (KAFN) 2020-08-03  12:46 AM        75 F      73 F     94 %   \n",
       "4  Jaffrey, NH (KAFN) 2020-08-03  12:52 AM        76 F      73 F     91 %   \n",
       "\n",
       "  Wind Wind Speed Wind Gust  Pressure Precip.      Condition  \\\n",
       "0  SSW     12 mph     0 mph  28.79 in  0.0 in        Thunder   \n",
       "1  SSW     10 mph     0 mph  28.79 in  0.1 in     Light Rain   \n",
       "2  SSW      8 mph     0 mph  28.79 in  0.1 in  Mostly Cloudy   \n",
       "3    S      6 mph     0 mph  28.79 in  0.1 in  Mostly Cloudy   \n",
       "4  SSW      8 mph     0 mph  28.79 in  0.1 in  Partly Cloudy   \n",
       "\n",
       "             Datetime  \n",
       "0 2020-08-03 00:13:00  \n",
       "1 2020-08-03 00:28:00  \n",
       "2 2020-08-03 00:41:00  \n",
       "3 2020-08-03 00:46:00  \n",
       "4 2020-08-03 00:52:00  "
      ]
     },
     "execution_count": 11,
     "metadata": {},
     "output_type": "execute_result"
    }
   ],
   "source": [
    "# sanity check that we have data\n",
    "weather.head()"
   ]
  },
  {
   "cell_type": "code",
   "execution_count": 12,
   "metadata": {
    "scrolled": true
   },
   "outputs": [
    {
     "name": "stdout",
     "output_type": "stream",
     "text": [
      "['Cloudy', 'Cloudy / Windy', 'Fair', 'Fog', 'Heavy Rain', 'Light Rain', 'Light Rain / Windy', 'Light Rain with Thunder', 'Mostly Cloudy', 'Partly Cloudy', 'Rain', 'T-Storm', 'Thunder', 'Thunder in the Vicinity']\n"
     ]
    }
   ],
   "source": [
    "# what are the valid types of weather present?\n",
    "weather_types = weather.drop_duplicates('Condition').sort_values('Condition')['Condition'].to_list()\n",
    "print(weather_types)"
   ]
  },
  {
   "cell_type": "code",
   "execution_count": 13,
   "metadata": {},
   "outputs": [
    {
     "data": {
      "text/plain": [
       "Date        Condition    \n",
       "2020-08-03  Cloudy            2\n",
       "            Fair             13\n",
       "            Light Rain        1\n",
       "            Mostly Cloudy    13\n",
       "            Partly Cloudy     9\n",
       "                             ..\n",
       "2020-09-03  Fair              9\n",
       "            Light Rain        3\n",
       "            Mostly Cloudy     5\n",
       "            Partly Cloudy     4\n",
       "            Rain              1\n",
       "Length: 136, dtype: int64"
      ]
     },
     "execution_count": 13,
     "metadata": {},
     "output_type": "execute_result"
    }
   ],
   "source": [
    "# group by each date to find relevant conditions\n",
    "weather.groupby(['Date', 'Condition']).size()"
   ]
  },
  {
   "cell_type": "code",
   "execution_count": 14,
   "metadata": {},
   "outputs": [
    {
     "data": {
      "text/plain": [
       "Date        Condition    \n",
       "2020-08-15  Cloudy            8\n",
       "            Fair             16\n",
       "            Mostly Cloudy     5\n",
       "            Partly Cloudy     1\n",
       "2020-08-27  Cloudy           21\n",
       "            Fair              4\n",
       "            Heavy Rain        1\n",
       "            Light Rain        4\n",
       "            Mostly Cloudy     2\n",
       "            Rain              4\n",
       "dtype: int64"
      ]
     },
     "execution_count": 14,
     "metadata": {},
     "output_type": "execute_result"
    }
   ],
   "source": [
    "# what about the highest and lowest output days?\n",
    "weather[(weather['Date'] == '2020-08-15') | (weather['Date'] == '2020-08-27')].groupby(['Date', 'Condition']).size()"
   ]
  },
  {
   "cell_type": "markdown",
   "metadata": {},
   "source": [
    "## Interpreting Weather Data\n",
    "\n",
    "There are some issues with the weather data supplied by automated weather reporting stations at airports. Each day may have a different number of reports based on when the weather changes, such as a thunderstorm appearing in the middle of an hour.\n",
    "\n",
    "Also, we need to filter any rows that are reported before sunrise or after sunset, as the likelihood of the solar panels generating any power during these times is near zero. We could use civil twilight as the basis for determining nearly dark conditions if necessary, although likely unnecessary.\n",
    "\n",
    "Forecasting based on Wunderground data will also be an issue, as the condition descriptors for hourly forecasts do not match those used for historical (e.g. \"Sunny\" or \"Mostly Sunny\" forecasts may translate to \"Fair\" or \"Partly Cloudy\" for history)."
   ]
  },
  {
   "cell_type": "markdown",
   "metadata": {},
   "source": [
    "### Scoring Each Condition\n",
    "\n",
    "This is definitely a bit of a wild guess, but we can iterate over `weather_types` and assign a score to each. We can reference this later to figure out what an aggregate \"score\" would be for each day.\n",
    "\n",
    "Note that these scores are entirely arbitrary at this point, and most of them are zero because 🤷‍♂️."
   ]
  },
  {
   "cell_type": "code",
   "execution_count": 15,
   "metadata": {},
   "outputs": [],
   "source": [
    "weather_type_score = {}\n",
    "\n",
    "for condition in weather_types:\n",
    "    if condition == 'Cloudy':\n",
    "        weather_type_score[condition] = 0\n",
    "    elif condition == 'Cloudy / Windy':\n",
    "        weather_type_score[condition] = 0\n",
    "    elif condition == 'Fair':\n",
    "        weather_type_score[condition] = 10\n",
    "    elif condition == 'Fog':\n",
    "        weather_type_score[condition] = 1\n",
    "    elif condition == 'Heavy Rain':\n",
    "        weather_type_score[condition] = 0\n",
    "    elif condition == 'Light Rain':\n",
    "        weather_type_score[condition] = 2\n",
    "    elif condition == 'Light Rain / Windy':\n",
    "        weather_type_score[condition] = 2\n",
    "    elif condition == 'Light Rain with Thunder':\n",
    "        weather_type_score[condition] = 0\n",
    "    elif condition == 'Mostly Cloudy':\n",
    "        weather_type_score[condition] = 3\n",
    "    elif condition == 'Partly Cloudy':\n",
    "        weather_type_score[condition] = 6\n",
    "    elif condition == 'T-Storm':\n",
    "        weather_type_score[condition] = 0\n",
    "    elif condition == 'Thunder':\n",
    "        weather_type_score[condition] = 1\n",
    "    elif condition == 'Thunder in the Vicinity':\n",
    "        weather_type_score[condition] = 2\n",
    "    else:\n",
    "        weather_type_score[condition] = 0"
   ]
  },
  {
   "cell_type": "code",
   "execution_count": 16,
   "metadata": {},
   "outputs": [],
   "source": [
    "def get_score_by_condition(condition: str) -> int:\n",
    "    if condition in weather_type_score.keys():\n",
    "        return weather_type_score[condition]\n",
    "    else:\n",
    "        return 0"
   ]
  },
  {
   "cell_type": "markdown",
   "metadata": {},
   "source": [
    "### Iterating on Weather Data to Create Daily Scores\n",
    "\n",
    "Let's iterate over `weather` to assign a score to each observation. We'll correct for the non-standard count of observations per day with a dumb average.\n",
    "\n",
    "**TODO: Weight each observation based on its relative duration**\n",
    "\n",
    "Each observation is has a relevant age associated with it, which would be a better approach to use going forward. If **T-Storm** persists for 20 minutes, it should not be equally weighted with the rest of observations that are **Fair** for the day.\n",
    "\n",
    "**TODO: Ignore any data from overnight (when the sun isn't present)**\n",
    "\n",
    "Each observation is has a relevant age associated with it, which would be a better approach to use going forward. If **T-Storm** persists for 20 minutes, it should not be equally weighted with the rest of observations that are **Fair** for the day."
   ]
  },
  {
   "cell_type": "code",
   "execution_count": 17,
   "metadata": {},
   "outputs": [],
   "source": [
    "daily_scores = {}\n",
    "\n",
    "for index, row in weather.iterrows():\n",
    "    date = row['Date']\n",
    "    condition = row['Condition']\n",
    "    condition_score = get_score_by_condition(condition)\n",
    "    \n",
    "    if date in daily_scores:\n",
    "        daily_scores[date] += condition_score\n",
    "    else:\n",
    "        daily_scores[date] = condition_score"
   ]
  },
  {
   "cell_type": "code",
   "execution_count": 18,
   "metadata": {},
   "outputs": [],
   "source": [
    "# there's probably a better way to do this...\n",
    "daily_scores_date = list(daily_scores.keys())\n",
    "daily_scores_score = list(daily_scores.values())\n",
    "daily_scores_data = {'Date' : daily_scores_date, 'Score' : daily_scores_score}\n",
    "daily_scores_df = pd.DataFrame.from_dict(data = daily_scores_data)"
   ]
  },
  {
   "cell_type": "code",
   "execution_count": 19,
   "metadata": {},
   "outputs": [
    {
     "data": {
      "text/html": [
       "<div>\n",
       "<style scoped>\n",
       "    .dataframe tbody tr th:only-of-type {\n",
       "        vertical-align: middle;\n",
       "    }\n",
       "\n",
       "    .dataframe tbody tr th {\n",
       "        vertical-align: top;\n",
       "    }\n",
       "\n",
       "    .dataframe thead th {\n",
       "        text-align: right;\n",
       "    }\n",
       "</style>\n",
       "<table border=\"1\" class=\"dataframe\">\n",
       "  <thead>\n",
       "    <tr style=\"text-align: right;\">\n",
       "      <th></th>\n",
       "      <th>Date</th>\n",
       "      <th>Score</th>\n",
       "    </tr>\n",
       "  </thead>\n",
       "  <tbody>\n",
       "    <tr>\n",
       "      <th>0</th>\n",
       "      <td>2020-08-03</td>\n",
       "      <td>226</td>\n",
       "    </tr>\n",
       "    <tr>\n",
       "      <th>1</th>\n",
       "      <td>2020-08-04</td>\n",
       "      <td>110</td>\n",
       "    </tr>\n",
       "    <tr>\n",
       "      <th>2</th>\n",
       "      <td>2020-08-05</td>\n",
       "      <td>229</td>\n",
       "    </tr>\n",
       "    <tr>\n",
       "      <th>3</th>\n",
       "      <td>2020-08-06</td>\n",
       "      <td>240</td>\n",
       "    </tr>\n",
       "    <tr>\n",
       "      <th>4</th>\n",
       "      <td>2020-08-07</td>\n",
       "      <td>125</td>\n",
       "    </tr>\n",
       "  </tbody>\n",
       "</table>\n",
       "</div>"
      ],
      "text/plain": [
       "        Date  Score\n",
       "0 2020-08-03    226\n",
       "1 2020-08-04    110\n",
       "2 2020-08-05    229\n",
       "3 2020-08-06    240\n",
       "4 2020-08-07    125"
      ]
     },
     "execution_count": 19,
     "metadata": {},
     "output_type": "execute_result"
    }
   ],
   "source": [
    "daily_scores_df.head()"
   ]
  },
  {
   "cell_type": "code",
   "execution_count": 20,
   "metadata": {},
   "outputs": [],
   "source": [
    "daily_scores_output = pd.merge(daily_scores_df, data[['Date', 'Yield(Wh)', 'Max. PV power(W)']], how = 'inner', on = 'Date')"
   ]
  },
  {
   "cell_type": "code",
   "execution_count": 21,
   "metadata": {},
   "outputs": [
    {
     "data": {
      "text/html": [
       "<div>\n",
       "<style scoped>\n",
       "    .dataframe tbody tr th:only-of-type {\n",
       "        vertical-align: middle;\n",
       "    }\n",
       "\n",
       "    .dataframe tbody tr th {\n",
       "        vertical-align: top;\n",
       "    }\n",
       "\n",
       "    .dataframe thead th {\n",
       "        text-align: right;\n",
       "    }\n",
       "</style>\n",
       "<table border=\"1\" class=\"dataframe\">\n",
       "  <thead>\n",
       "    <tr style=\"text-align: right;\">\n",
       "      <th></th>\n",
       "      <th>Date</th>\n",
       "      <th>Score</th>\n",
       "      <th>Yield(Wh)</th>\n",
       "      <th>Max. PV power(W)</th>\n",
       "    </tr>\n",
       "  </thead>\n",
       "  <tbody>\n",
       "    <tr>\n",
       "      <th>0</th>\n",
       "      <td>2020-08-03</td>\n",
       "      <td>226</td>\n",
       "      <td>610</td>\n",
       "      <td>296.0</td>\n",
       "    </tr>\n",
       "    <tr>\n",
       "      <th>1</th>\n",
       "      <td>2020-08-04</td>\n",
       "      <td>110</td>\n",
       "      <td>210</td>\n",
       "      <td>73.0</td>\n",
       "    </tr>\n",
       "    <tr>\n",
       "      <th>2</th>\n",
       "      <td>2020-08-05</td>\n",
       "      <td>229</td>\n",
       "      <td>660</td>\n",
       "      <td>292.0</td>\n",
       "    </tr>\n",
       "    <tr>\n",
       "      <th>3</th>\n",
       "      <td>2020-08-06</td>\n",
       "      <td>240</td>\n",
       "      <td>460</td>\n",
       "      <td>293.0</td>\n",
       "    </tr>\n",
       "    <tr>\n",
       "      <th>4</th>\n",
       "      <td>2020-08-07</td>\n",
       "      <td>125</td>\n",
       "      <td>410</td>\n",
       "      <td>285.0</td>\n",
       "    </tr>\n",
       "  </tbody>\n",
       "</table>\n",
       "</div>"
      ],
      "text/plain": [
       "        Date  Score  Yield(Wh)  Max. PV power(W)\n",
       "0 2020-08-03    226        610             296.0\n",
       "1 2020-08-04    110        210              73.0\n",
       "2 2020-08-05    229        660             292.0\n",
       "3 2020-08-06    240        460             293.0\n",
       "4 2020-08-07    125        410             285.0"
      ]
     },
     "execution_count": 21,
     "metadata": {},
     "output_type": "execute_result"
    }
   ],
   "source": [
    "daily_scores_output.head()"
   ]
  },
  {
   "cell_type": "markdown",
   "metadata": {},
   "source": [
    "### Plotting Scores vs Yield"
   ]
  },
  {
   "cell_type": "code",
   "execution_count": 22,
   "metadata": {},
   "outputs": [
    {
     "data": {
      "image/png": "[encoded data removed]",
      "text/plain": [
       "<Figure size 432x288 with 1 Axes>"
      ]
     },
     "metadata": {
      "needs_background": "light"
     },
     "output_type": "display_data"
    }
   ],
   "source": [
    "plt.plot(daily_scores_output['Date'], daily_scores_output['Score'], color='b')\n",
    "plt.plot(daily_scores_output['Date'], daily_scores_output['Yield(Wh)'], color='g')\n",
    "plt.show()"
   ]
  },
  {
   "cell_type": "code",
   "execution_count": null,
   "metadata": {},
   "outputs": [],
   "source": []
  }
 ],
 "metadata": {
  "kernelspec": {
   "display_name": "Python 3",
   "language": "python",
   "name": "python3"
  },
  "language_info": {
   "codemirror_mode": {
    "name": "ipython",
    "version": 3
   },
   "file_extension": ".py",
   "mimetype": "text/x-python",
   "name": "python",
   "nbconvert_exporter": "python",
   "pygments_lexer": "ipython3",
   "version": "3.7.4"
  }
 },
 "nbformat": 4,
 "nbformat_minor": 2
}
